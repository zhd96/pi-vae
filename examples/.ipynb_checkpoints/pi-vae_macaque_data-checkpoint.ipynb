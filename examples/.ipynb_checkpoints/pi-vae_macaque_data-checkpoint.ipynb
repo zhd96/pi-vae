{
 "cells": [
  {
   "cell_type": "code",
   "execution_count": null,
   "metadata": {},
   "outputs": [],
   "source": [
    "import numpy as np\n",
    "import matplotlib.pyplot as plt\n",
    "import scipy.stats as ss\n",
    "import scipy.special as ssp\n",
    "import sys\n",
    "import scipy.io as sio\n",
    "sys.path.append(\"../code/\")\n",
    "from pi_vae import *\n",
    "from util import *\n",
    "from keras.callbacks import ModelCheckpoint\n",
    "\n",
    "## import plot packages\n",
    "from matplotlib.ticker import FormatStrFormatter\n",
    "from matplotlib import ticker\n",
    "\n",
    "%load_ext autoreload\n",
    "%autoreload 2\n",
    "%matplotlib inline"
   ]
  },
  {
   "cell_type": "markdown",
   "metadata": {},
   "source": [
    "## load macaque data"
   ]
  },
  {
   "cell_type": "code",
   "execution_count": null,
   "metadata": {},
   "outputs": [],
   "source": [
    "## load trial information\n",
    "## starttime, endtime, number, tgtontime, gocuetime, tgtdir, tgtid\n",
    "trial_dat = sio.loadmat(\"../data/chewie_data/Chewie_20161006_trials_array.mat\")"
   ]
  },
  {
   "cell_type": "code",
   "execution_count": null,
   "metadata": {},
   "outputs": [],
   "source": [
    "## load spike data\n",
    "dat_ = sio.loadmat('../data/chewie_data/Chewie_20161006_seq.mat');\n",
    "\n",
    "dat_all = [[] for _ in range(8)];\n",
    "tar_dir = np.unique(trial_dat['trials_array'][:,5])[:8];\n",
    "trial_dat_id = np.unique(trial_dat['trials_array'][:,5],return_inverse=True)[1];\n",
    "\n",
    "for trial_id in range(251):\n",
    "    if dat_['seq'][0][trial_id]['T'][0,0] != 0:\n",
    "        dat_all[trial_dat_id[trial_id]].append(dat_['seq'][0][trial_id]['y'].T[:,63:]);\n",
    "\n",
    "dat_all = np.array([np.array(dat_all[ii]) for ii in range(8)]);"
   ]
  },
  {
   "cell_type": "code",
   "execution_count": null,
   "metadata": {},
   "outputs": [],
   "source": [
    "## randomly split into batches\n",
    "np.random.seed(666);\n",
    "trial_ls = [np.random.permutation(np.array_split(np.random.permutation(np.arange(dat_all[ii].shape[0])),24)) for ii in range(8)];\n",
    "\n",
    "x_all = [];\n",
    "u_all = [];\n",
    "for ii in range(24): # 24 batches\n",
    "    x_tr = [];\n",
    "    u_tr = [];\n",
    "    for jj in range(8): # 8 different directions\n",
    "        x_tmp = np.concatenate(dat_all[jj][trial_ls[jj][ii]])#[:,:-1];\n",
    "        u_tmp = np.ones((x_tmp.shape[0],1))*jj;\n",
    "        x_tr.append(x_tmp);\n",
    "        u_tr.append(u_tmp);\n",
    "    x_all.append(np.concatenate(x_tr));\n",
    "    u_all.append(np.concatenate(u_tr));\n",
    "\n",
    "x_all = np.array(x_all);\n",
    "u_all = np.array(u_all);"
   ]
  },
  {
   "cell_type": "code",
   "execution_count": null,
   "metadata": {},
   "outputs": [],
   "source": [
    "x_train = x_all[:20];\n",
    "u_train = u_all[:20];\n",
    "\n",
    "x_valid = x_all[20:22];\n",
    "u_valid = u_all[20:22];\n",
    "\n",
    "x_test = x_all[22:];\n",
    "u_test = u_all[22:];"
   ]
  },
  {
   "cell_type": "code",
   "execution_count": null,
   "metadata": {},
   "outputs": [],
   "source": [
    "## check pca results\n",
    "from sklearn.decomposition import PCA\n",
    "pca_raw = PCA(n_components=x_all[0].shape[-1]);\n",
    "pca_raw_rlt = pca_raw.fit_transform(np.concatenate(x_all));"
   ]
  },
  {
   "cell_type": "code",
   "execution_count": null,
   "metadata": {},
   "outputs": [],
   "source": [
    "## plot pca results\n",
    "c_vec = np.array(['red','orange','green','blue','indigo','pink','brown','gray'])\n",
    "c_all = c_vec[np.array(np.concatenate(u_all)[:,0]%8, dtype='int')];\n",
    "plt.scatter(pca_raw_rlt[:,0], pca_raw_rlt[:,1], c=c_all, alpha=0.5)"
   ]
  },
  {
   "cell_type": "markdown",
   "metadata": {},
   "source": [
    "## fit pi-vae"
   ]
  },
  {
   "cell_type": "code",
   "execution_count": null,
   "metadata": {},
   "outputs": [],
   "source": [
    "np.random.seed(999);\n",
    "vae = vae_mdl(dim_x=x_all[0].shape[-1],\n",
    "                   dim_z=4,\n",
    "                   dim_u=np.unique(np.concatenate(u_all)).shape[0],\n",
    "                   gen_nodes=60, n_blk=2, mdl='poisson', disc=True, learning_rate=5e-4)"
   ]
  },
  {
   "cell_type": "code",
   "execution_count": null,
   "metadata": {},
   "outputs": [],
   "source": [
    "model_chk_path = '../results/macaque_4d_999.h5' ##999, 777\n",
    "mcp = ModelCheckpoint(model_chk_path, monitor=\"val_loss\", save_best_only=True, save_weights_only=True)\n",
    "s_n = vae.fit_generator(custom_data_generator(x_train, u_train),\n",
    "              steps_per_epoch=len(x_train), epochs=1000,\n",
    "              verbose=1,\n",
    "              validation_data = custom_data_generator(x_valid, u_valid),\n",
    "              validation_steps = len(x_valid), callbacks=[mcp]);"
   ]
  },
  {
   "cell_type": "code",
   "execution_count": null,
   "metadata": {},
   "outputs": [],
   "source": [
    "plt.plot(s_n.history['val_loss'][:])"
   ]
  },
  {
   "cell_type": "code",
   "execution_count": null,
   "metadata": {},
   "outputs": [],
   "source": [
    "model_chk_path = '../results/macaque_4d_999.h5'\n",
    "vae.load_weights(model_chk_path);"
   ]
  },
  {
   "cell_type": "code",
   "execution_count": null,
   "metadata": {},
   "outputs": [],
   "source": [
    "outputs = vae.predict_generator(custom_data_generator(x_all, u_all),\n",
    "                                                steps = len(x_all));\n",
    "# post_mean, post_log_var, z_sample,fire_rate, lam_mean, lam_log_var, z_mean, z_log_var\n",
    "print(outputs[0].var(axis=0))  ## variance of each latent dimension"
   ]
  },
  {
   "cell_type": "code",
   "execution_count": null,
   "metadata": {},
   "outputs": [],
   "source": [
    "z_pred_all = [];\n",
    "for ii in range(dat_all.shape[0]):\n",
    "    z_pred_tmp = [];\n",
    "    for jj in range(dat_all[ii].shape[0]):\n",
    "        z_pred_tmp.append(vae.predict([dat_all[ii][jj], np.ones((dat_all[ii][jj].shape[0],1))*(ii)])[0]);\n",
    "    z_pred_all.append(z_pred_tmp);\n",
    "z_pred_all = np.array(z_pred_all);"
   ]
  },
  {
   "cell_type": "markdown",
   "metadata": {},
   "source": [
    "## make plots"
   ]
  },
  {
   "cell_type": "code",
   "execution_count": null,
   "metadata": {},
   "outputs": [],
   "source": [
    "## posterior mean\n",
    "c_vec = np.array(['red','orange','green','blue','indigo','pink','brown','gray'])\n",
    "c_all = np.array(np.concatenate(u_all).reshape(-1), dtype='int');\n",
    "\n",
    "#link = {0:0,1:1,2:3};\n",
    "#link = {0:3,1:1,2:2};\n",
    "fsz = 14;\n",
    "\n",
    "fig = plt.figure(figsize=(8,4))\n",
    "\n",
    "ax1 = plt.subplot(1,2,1);\n",
    "ax1.set_xlabel('Latent 1',fontsize=fsz,fontweight='normal');\n",
    "ax1.set_ylabel('Latent 2',fontsize=fsz,fontweight='normal');\n",
    "ax1.spines['top'].set_visible(False)\n",
    "ax1.spines['right'].set_visible(False)\n",
    "plt.scatter(outputs[0][:,3], outputs[0][:,1], s=1, c=c_vec[c_all%8], alpha=0.5);\n",
    "plt.setp(ax1.get_xticklabels(), fontsize=fsz);\n",
    "plt.setp(ax1.get_yticklabels(), fontsize=fsz);\n",
    "\n",
    "ax2 = plt.subplot(1,2,2);\n",
    "ax2.set_xlabel('Latent 3',fontsize=fsz,fontweight='normal');\n",
    "ax2.set_ylabel('Latent 4',fontsize=fsz,fontweight='normal');\n",
    "ax2.spines['top'].set_visible(False)\n",
    "ax2.spines['right'].set_visible(False)\n",
    "plt.scatter(outputs[0][:,2], outputs[0][:,0], s=1, c=c_vec[c_all%8], alpha=0.5);\n",
    "plt.setp(ax2.get_xticklabels(), fontsize=fsz);\n",
    "plt.setp(ax2.get_yticklabels(), fontsize=fsz);\n",
    "\n",
    "plt.tight_layout()"
   ]
  },
  {
   "cell_type": "code",
   "execution_count": null,
   "metadata": {},
   "outputs": [],
   "source": [
    "## posterior mean average accross trials/repeats\n",
    "c_vec = np.array(['red','orange','green','blue','indigo','pink','brown','gray'])\n",
    "c_all = np.array(np.concatenate(u_all).reshape(-1), dtype='int');\n",
    "\n",
    "#ndim = 2;\n",
    "#ndir = 0;\n",
    "#select = (np.concatenate(u_all).reshape(-1) == ndir);\n",
    "fig = plt.figure(figsize=(8,4))\n",
    "ax1 = plt.subplot(1,2,1);\n",
    "ax1.set_xlabel('Latent 1',fontsize=fsz,fontweight='normal');\n",
    "ax1.set_ylabel('Latent 2',fontsize=fsz,fontweight='normal');\n",
    "ax1.spines['top'].set_visible(False)\n",
    "ax1.spines['right'].set_visible(False)\n",
    "\n",
    "for ndir in range(8):\n",
    "    mean1 = mean2 = 0;\n",
    "    n_tr = len(z_pred_all[ndir]);\n",
    "    counter = 0;\n",
    "    for ii in range(n_tr):\n",
    "        if len(z_pred_all[ndir][ii]) >= 20:\n",
    "            counter += 1;\n",
    "            mean1 += z_pred_all[ndir][ii][:20,3];\n",
    "            mean2 += z_pred_all[ndir][ii][:20,1];\n",
    "    #print(counter);\n",
    "    ax1.plot(mean1/counter, mean2/counter, '-x', c=c_vec[ndir]);\n",
    "    \n",
    "plt.setp(ax1.get_xticklabels(), fontsize=fsz);\n",
    "plt.setp(ax1.get_yticklabels(), fontsize=fsz);\n",
    "\n",
    "ax2 = plt.subplot(1,2,2);\n",
    "ax2.set_xlabel('Latent 3',fontsize=fsz,fontweight='normal');\n",
    "ax2.set_ylabel('Latent 4',fontsize=fsz,fontweight='normal');\n",
    "ax2.spines['top'].set_visible(False)\n",
    "ax2.spines['right'].set_visible(False)\n",
    "\n",
    "\n",
    "for ndir in range(8):\n",
    "    mean1 = mean2 = 0;\n",
    "    n_tr = len(z_pred_all[ndir]);\n",
    "    counter = 0;\n",
    "    for ii in range(n_tr):\n",
    "        if len(z_pred_all[ndir][ii]) >= 20:\n",
    "            counter += 1;\n",
    "            mean1 += z_pred_all[ndir][ii][:20,2];\n",
    "            mean2 += z_pred_all[ndir][ii][:20,0];\n",
    "    #print(counter);\n",
    "    ax2.plot(mean1/counter, mean2/counter, '-x', c=c_vec[ndir]);\n",
    "plt.setp(ax2.get_xticklabels(), fontsize=fsz);\n",
    "plt.setp(ax2.get_yticklabels(), fontsize=fsz);\n",
    "\n",
    "plt.tight_layout()"
   ]
  },
  {
   "cell_type": "code",
   "execution_count": null,
   "metadata": {},
   "outputs": [],
   "source": []
  },
  {
   "cell_type": "code",
   "execution_count": null,
   "metadata": {},
   "outputs": [],
   "source": [
    "## compute posterior mean w/o prior\n",
    "z_pred_all = [];\n",
    "for ii in range(dat_all.shape[0]):\n",
    "    z_pred_tmp = [];\n",
    "    for jj in range(dat_all[ii].shape[0]):\n",
    "        z_pred_tmp.append(vae.predict([dat_all[ii][jj], np.ones((dat_all[ii][jj].shape[0],1))*(ii)])[6]);\n",
    "    z_pred_all.append(z_pred_tmp);\n",
    "z_pred_all = np.array(z_pred_all);"
   ]
  },
  {
   "cell_type": "code",
   "execution_count": null,
   "metadata": {},
   "outputs": [],
   "source": [
    "## posterior mean w/o prior\n",
    "\n",
    "c_vec = np.array(['red','orange','green','blue','indigo','pink','brown','gray'])\n",
    "c_all = np.array(np.concatenate(u_all).reshape(-1), dtype='int');\n",
    "\n",
    "#link = {0:0,1:1,2:3};\n",
    "#link = {0:3,1:1,2:2};\n",
    "fsz = 14;\n",
    "\n",
    "fig = plt.figure(figsize=(8,4))\n",
    "\n",
    "ax1 = plt.subplot(1,2,1);\n",
    "ax1.set_xlabel('Latent 1',fontsize=fsz,fontweight='normal');\n",
    "ax1.set_ylabel('Latent 2',fontsize=fsz,fontweight='normal');\n",
    "ax1.spines['top'].set_visible(False)\n",
    "ax1.spines['right'].set_visible(False)\n",
    "plt.scatter(outputs[6][:,3], outputs[6][:,1], s=1, c=c_vec[c_all%8], alpha=0.5);\n",
    "plt.setp(ax1.get_xticklabels(), fontsize=fsz);\n",
    "plt.setp(ax1.get_yticklabels(), fontsize=fsz);\n",
    "\n",
    "ax2 = plt.subplot(1,2,2);\n",
    "ax2.set_xlabel('Latent 3',fontsize=fsz,fontweight='normal');\n",
    "ax2.set_ylabel('Latent 4',fontsize=fsz,fontweight='normal');\n",
    "ax2.spines['top'].set_visible(False)\n",
    "ax2.spines['right'].set_visible(False)\n",
    "plt.scatter(outputs[6][:,2], outputs[6][:,0], s=1, c=c_vec[c_all%8], alpha=0.5);\n",
    "plt.setp(ax2.get_xticklabels(), fontsize=fsz);\n",
    "plt.setp(ax2.get_yticklabels(), fontsize=fsz);\n",
    "\n",
    "plt.tight_layout()"
   ]
  },
  {
   "cell_type": "code",
   "execution_count": null,
   "metadata": {},
   "outputs": [],
   "source": [
    "## posterior mean w/o prior average accross trials/repeats\n",
    "c_vec = np.array(['red','orange','green','blue','indigo','pink','brown','gray'])\n",
    "c_all = np.array(np.concatenate(u_all).reshape(-1), dtype='int');\n",
    "\n",
    "#ndim = 2;\n",
    "#ndir = 0;\n",
    "#select = (np.concatenate(u_all).reshape(-1) == ndir);\n",
    "fig = plt.figure(figsize=(8,4))\n",
    "ax1 = plt.subplot(1,2,1);\n",
    "ax1.set_xlabel('Latent 1',fontsize=fsz,fontweight='normal');\n",
    "ax1.set_ylabel('Latent 2',fontsize=fsz,fontweight='normal');\n",
    "ax1.spines['top'].set_visible(False)\n",
    "ax1.spines['right'].set_visible(False)\n",
    "\n",
    "for ndir in range(8):\n",
    "    mean1 = mean2 = 0;\n",
    "    n_tr = len(z_pred_all[ndir]);\n",
    "    counter = 0;\n",
    "    for ii in range(n_tr):\n",
    "        if len(z_pred_all[ndir][ii]) >= 20:\n",
    "            counter += 1;\n",
    "            mean1 += z_pred_all[ndir][ii][:20,3];\n",
    "            mean2 += z_pred_all[ndir][ii][:20,1];\n",
    "    #print(counter)\n",
    "    ax1.plot(mean1/counter, mean2/counter, '-x', c=c_vec[ndir]);\n",
    "    \n",
    "plt.setp(ax1.get_xticklabels(), fontsize=fsz);\n",
    "plt.setp(ax1.get_yticklabels(), fontsize=fsz);\n",
    "\n",
    "ax2 = plt.subplot(1,2,2);\n",
    "ax2.set_xlabel('Latent 3',fontsize=fsz,fontweight='normal');\n",
    "ax2.set_ylabel('Latent 4',fontsize=fsz,fontweight='normal');\n",
    "ax2.spines['top'].set_visible(False)\n",
    "ax2.spines['right'].set_visible(False)\n",
    "\n",
    "\n",
    "for ndir in range(8):\n",
    "    mean1 = mean2 = 0;\n",
    "    n_tr = len(z_pred_all[ndir]);\n",
    "    counter = 0;\n",
    "    for ii in range(n_tr):\n",
    "        if len(z_pred_all[ndir][ii]) >= 20:\n",
    "            counter += 1;\n",
    "            mean1 += z_pred_all[ndir][ii][:20,2];\n",
    "            mean2 += z_pred_all[ndir][ii][:20,0];\n",
    "    #print(counter)\n",
    "    ax2.plot(mean1/counter, mean2/counter, '-x', c=c_vec[ndir]);\n",
    "plt.setp(ax2.get_xticklabels(), fontsize=fsz);\n",
    "plt.setp(ax2.get_yticklabels(), fontsize=fsz);\n",
    "\n",
    "plt.tight_layout()"
   ]
  },
  {
   "cell_type": "markdown",
   "metadata": {},
   "source": [
    "## compute log likelihood and decoding"
   ]
  },
  {
   "cell_type": "code",
   "execution_count": null,
   "metadata": {},
   "outputs": [],
   "source": [
    "## sample u\n",
    "u_fake = np.array([[np.ones((x_test[ii].shape[0],1))*jj for ii in range(len(x_test))] \n",
    "                   for jj in range(8)])\n",
    "\n",
    "## compute loglik\n",
    "np.random.seed(999);\n",
    "lik_all = compute_marginal_lik_poisson(vae, x_test, u_fake, 500, log_opt = True);\n",
    "decode_use = np.array([lik_all[jj].argmax(axis=0) for jj in range(len(lik_all))]);\n",
    "lik_use = np.concatenate([np.log(np.exp(lik_all[jj]-lik_all[jj].max(axis=0)).mean(axis=0))+lik_all[jj].max(axis=0)-ssp.loggamma(x_test[jj]+1).sum(axis=-1) for jj in range(len(lik_all))])"
   ]
  },
  {
   "cell_type": "code",
   "execution_count": null,
   "metadata": {},
   "outputs": [],
   "source": [
    "## fit tuning curve model\n",
    "tc = get_disc_tc(np.concatenate(x_train), np.concatenate(u_train)[:,0]);\n",
    "lik_tc = [np.array([np.exp((x_test[jj]*np.log(np.clip(tc[ii],1e-10,1e6)) - tc[ii]).sum(axis=-1)) for ii in range(8)]) for jj in range(len(x_test))];\n",
    "lik_tc_use = np.concatenate([np.log(lik_tc[jj].mean(axis=0))-ssp.loggamma(x_test[jj]+1).sum(axis=-1) for jj in range(len(lik_tc))]);\n",
    "decode_tc_use = np.array([lik_tc[jj].argmax(axis=0) for jj in range(len(lik_tc))]);"
   ]
  },
  {
   "cell_type": "code",
   "execution_count": null,
   "metadata": {},
   "outputs": [],
   "source": [
    "np.concatenate([((u_test[jj][:,0])!=(decode_use[jj])) for jj in range(len(u_test))]).mean()"
   ]
  },
  {
   "cell_type": "code",
   "execution_count": null,
   "metadata": {},
   "outputs": [],
   "source": [
    "np.concatenate([((u_test[jj][:,0])!=(decode_tc_use[jj])) for jj in range(len(u_test))]).mean()"
   ]
  },
  {
   "cell_type": "code",
   "execution_count": null,
   "metadata": {},
   "outputs": [],
   "source": [
    "## load vae loglik \n",
    "## lik_use_vae = np.load(\"../results/lik_vae_chewie.npy\")\n",
    "mean_diff = ((lik_use)-(lik_use_vae));\n",
    "## p-value\n",
    "1-ss.t.cdf(mean_diff.mean()*np.sqrt(mean_diff.shape[0])/np.std(mean_diff), mean_diff.shape[0])"
   ]
  },
  {
   "cell_type": "code",
   "execution_count": null,
   "metadata": {},
   "outputs": [],
   "source": [
    "## compute decoding error w.r.t. time\n",
    "ii = 22;\n",
    "idx = [];\n",
    "for jj in range(8):\n",
    "    for kk in range(len(trial_ls[jj][ii])):\n",
    "        idx.append(dat_all[jj][trial_ls[jj][ii]][kk].shape[0])\n",
    "idx = np.cumsum(idx);\n",
    "\n",
    "jj = 0\n",
    "split_dec = np.array_split(((u_test[jj][:,0])!=(decode_use[jj])), idx)[:-1];\n",
    "split_tc_dec = np.array_split(((u_test[jj][:,0])!=(decode_tc_use[jj])), idx)[:-1];\n",
    "\n",
    "ii = 23;\n",
    "idx = [];\n",
    "for jj in range(8):\n",
    "    for kk in range(len(trial_ls[jj][ii])):\n",
    "        idx.append(dat_all[jj][trial_ls[jj][ii]][kk].shape[0])\n",
    "idx = np.cumsum(idx);\n",
    "\n",
    "jj = 1\n",
    "split_dec1 = np.array_split(((u_test[jj][:,0])!=(decode_use[jj])), idx)[:-1];\n",
    "split_dec1 = np.delete(split_dec1,-2)\n",
    "split_tc_dec1 = np.array_split(((u_test[jj][:,0])!=(decode_tc_use[jj])), idx)[:-1];\n",
    "split_tc_dec1 = np.delete(split_tc_dec1,-2)\n",
    "\n",
    "dec_time = np.array([np.hstack((split_dec,split_dec1))[jj][:22] for jj in range(len(np.hstack((split_dec,split_dec1))))]).mean(axis=0)\n",
    "dec_tc_time = np.array([np.hstack((split_tc_dec,split_tc_dec1))[jj][:22] for jj in range(len(np.hstack((split_tc_dec,split_tc_dec1))))]).mean(axis=0)"
   ]
  },
  {
   "cell_type": "code",
   "execution_count": null,
   "metadata": {},
   "outputs": [],
   "source": [
    "fsz = 14;\n",
    "plt.figure(figsize=(4,4));\n",
    "ax = plt.subplot(111);\n",
    "plt.plot((1-dec_time)*100, c='red', label='iVAE')\n",
    "plt.plot((1-dec_tc_time)*100, c='blue', label='tuning curve')\n",
    "ax.spines['top'].set_visible(False)\n",
    "ax.spines['right'].set_visible(False)\n",
    "plt.setp(ax.get_xticklabels(), fontsize=fsz);\n",
    "plt.setp(ax.get_yticklabels(), fontsize=fsz);\n",
    "ax.set_xticks((0,5,10,15,20));\n",
    "ax.set_xticklabels((0,0.25,0.5,0.75,1));\n",
    "#ax.yaxis.set_major_formatter(FormatStrFormatter('%.0f'))\n",
    "#ax.yaxis.set_major_locator(ticker.MaxNLocator(nbins=4,min_n_ticks=4,prune=None))\n",
    "ax.set_xlabel('Time (s)',fontsize=fsz,fontweight='normal');\n",
    "ax.set_ylabel('Accuracy (%)',fontsize=fsz,fontweight='normal');\n",
    "plt.legend(fontsize=12, loc='lower center')"
   ]
  },
  {
   "cell_type": "markdown",
   "metadata": {},
   "source": [
    "## compute PSTH"
   ]
  },
  {
   "cell_type": "code",
   "execution_count": null,
   "metadata": {},
   "outputs": [],
   "source": [
    "## load firing rate for vae\n",
    "## z_pred_all_vae = np.load(\"../results/fire_rate_vae_chewie.npy\",allow_pickle=True)\n",
    "z_pred_all = [];\n",
    "for ii in range(dat_all.shape[0]):\n",
    "    z_pred_tmp = [];\n",
    "    for jj in range(dat_all[ii].shape[0]):\n",
    "        z_pred_tmp.append(vae.predict([dat_all[ii][jj], np.ones((dat_all[ii][jj].shape[0],1))*(ii)])[3]);\n",
    "    z_pred_all.append(z_pred_tmp);\n",
    "z_pred_all = np.array(z_pred_all);\n",
    "\n",
    "orders = np.argsort(-np.concatenate(x_all).sum(axis=0))\n",
    "\n",
    "## firing rate mse\n",
    "ivae_fr_mse = [];\n",
    "vae_fr_mse = [];\n",
    "tc_fr_mse = [];\n",
    "\n",
    "for jj in range(len(orders)):\n",
    "    for ndir in range(8):\n",
    "        neu_id = orders[jj];\n",
    "        mean1 = mean2 = mean3 = 0;\n",
    "        n_tr = len(z_pred_all[ndir]);\n",
    "        counter = 0;\n",
    "        for ii in range(n_tr):\n",
    "            if len(z_pred_all[ndir][ii]) >= 20:\n",
    "                counter += 1;\n",
    "                mean1 += z_pred_all[ndir][ii][:20,neu_id];\n",
    "                mean2 += np.array(dat_all[ndir][ii][:20,neu_id], dtype='float32');\n",
    "                mean3 += z_pred_all_vae[ndir][ii][:20,neu_id];\n",
    "        mean1 *= (20/counter);\n",
    "        mean2 *= (20/counter);\n",
    "        mean3 *= (20/counter);\n",
    "        tc_fr_mse.append(np.square(mean2-mean2.mean()).mean())\n",
    "        ivae_fr_mse.append(np.square(mean1-mean2).mean());\n",
    "        vae_fr_mse.append(np.square(mean3-mean2).mean());\n",
    "ivae_fr_mse = np.array(ivae_fr_mse).reshape(-1,8);\n",
    "vae_fr_mse = np.array(vae_fr_mse).reshape(-1,8);\n",
    "tc_fr_mse = np.array(tc_fr_mse).reshape(-1,8);\n",
    "tc_mse_all = np.sqrt(tc_fr_mse.mean(axis=-1));\n",
    "ivae_mse_all = np.sqrt(ivae_fr_mse.mean(axis=-1));\n",
    "vae_mse_all = np.sqrt(vae_fr_mse.mean(axis=-1));"
   ]
  },
  {
   "cell_type": "code",
   "execution_count": null,
   "metadata": {},
   "outputs": [],
   "source": [
    "plt.figure(figsize=(4,4));\n",
    "ax = plt.subplot(111);\n",
    "fsz = 14;\n",
    "minv, maxv = get_min_max(ivae_mse_all, vae_mse_all);\n",
    "bins = np.linspace(minv, maxv, 30);\n",
    "wid = 0.7;\n",
    "sz = 7;\n",
    "plt.plot(ivae_mse_all, vae_mse_all, \"bo\",markersize=sz,markeredgecolor='white',markeredgewidth=wid)\n",
    "#plt.scatter(ivae_mse_all, vae_mse_all, alpha=1, label='piVAE');\n",
    "plt.plot([minv, maxv], [minv, maxv], ls=\"--\", linewidth=3,c=\"black\")\n",
    "ax.set_yticks((0,2,4,6,8));\n",
    "ax.set_yticklabels((0,2,4,6,8));\n",
    "#plt.hist(vae_mse_all, bins=bins, alpha=0.5, label='VAE');\n",
    "#plt.legend(fontsize=fsz);\n",
    "ax.spines['top'].set_visible(False)\n",
    "ax.spines['right'].set_visible(False)\n",
    "plt.setp(ax.get_xticklabels(), fontsize=fsz);\n",
    "plt.setp(ax.get_yticklabels(), fontsize=fsz);\n",
    "ax.set_xlabel('piVAE',fontsize=fsz,fontweight='normal');\n",
    "ax.set_ylabel('VAE',fontsize=fsz,fontweight='normal');"
   ]
  },
  {
   "cell_type": "code",
   "execution_count": null,
   "metadata": {},
   "outputs": [],
   "source": [
    "plt.figure(figsize=(4,4));\n",
    "ax = plt.subplot(111);\n",
    "fsz = 14;\n",
    "minv, maxv = get_min_max(tc_mse_all, vae_mse_all);\n",
    "bins = np.linspace(minv, maxv, 30);\n",
    "wid = 0.7;\n",
    "sz = 7;\n",
    "plt.plot(vae_mse_all, tc_mse_all, \"bo\",markersize=sz,markeredgecolor='white',markeredgewidth=wid)\n",
    "#plt.scatter(ivae_mse_all, vae_mse_all, alpha=1, label='piVAE');\n",
    "plt.plot([minv, maxv], [minv, maxv], ls=\"--\", linewidth=3,c=\"black\")\n",
    "#plt.hist(vae_mse_all, bins=bins, alpha=0.5, label='VAE');\n",
    "#plt.legend(fontsize=fsz);\n",
    "ax.spines['top'].set_visible(False)\n",
    "ax.spines['right'].set_visible(False)\n",
    "plt.setp(ax.get_xticklabels(), fontsize=fsz);\n",
    "plt.setp(ax.get_yticklabels(), fontsize=fsz);\n",
    "ax.set_xticks((0,2,4,6,8,10,12));\n",
    "ax.set_xticklabels((0,2,4,6,8,10,12));\n",
    "#ax.set_xticklabels((0,0.25,0.5,0.75,1,1.25));\n",
    "ax.set_xlabel('VAE',fontsize=fsz,fontweight='normal');\n",
    "ax.set_ylabel('Tuning curve',fontsize=fsz,fontweight='normal');"
   ]
  },
  {
   "cell_type": "code",
   "execution_count": null,
   "metadata": {},
   "outputs": [],
   "source": [
    "#ndir = 4;\n",
    "fsz = 14;\n",
    "for jj in range(10):\n",
    "    plt.figure(figsize=(32,4))\n",
    "    for ndir in range(8):\n",
    "        ax = plt.subplot(1,8,ndir+1);\n",
    "        neu_id = orders[jj];\n",
    "        mean1 = mean2 = mean3 = 0;\n",
    "        n_tr = len(z_pred_all[ndir]);\n",
    "        counter = 0;\n",
    "        for ii in range(n_tr):\n",
    "            if len(z_pred_all[ndir][ii]) >= 20:\n",
    "                counter += 1;\n",
    "                mean1 += z_pred_all[ndir][ii][:20,neu_id];\n",
    "                mean2 += np.array(dat_all[ndir][ii][:20,neu_id], dtype='int32');\n",
    "                mean3 += z_pred_all_vae[ndir][ii][:20,neu_id];\n",
    "        #print(counter)\n",
    "        plt.plot(mean1*20/counter, '-', c='red', label='iVAE');\n",
    "        plt.plot(mean2*20/counter, '-', c='black', label='True');\n",
    "        plt.plot(mean3*20/counter, '-', c='blue', label='VAE');\n",
    "        plt.ylim([4,61])\n",
    "        ax.spines['top'].set_visible(False)\n",
    "        ax.spines['right'].set_visible(False)\n",
    "        plt.setp(ax.get_xticklabels(), fontsize=fsz);\n",
    "        plt.setp(ax.get_yticklabels(), fontsize=fsz);\n",
    "        ax.set_xticks((0,5,10,15,20));\n",
    "        ax.set_xticklabels((0,0.25,0.5,0.75,1));\n",
    "        #ax.yaxis.set_major_formatter(FormatStrFormatter('%.0f'))\n",
    "        ax.yaxis.set_major_locator(ticker.MaxNLocator(nbins=4,min_n_ticks=4,prune=None))\n",
    "        ax.set_xlabel('Time (s)',fontsize=fsz,fontweight='normal');\n",
    "        ax.set_ylabel('Firing rate (spike/s)',fontsize=fsz,fontweight='normal');\n",
    "        if ndir == 0:\n",
    "            plt.legend(fontsize = 14)\n",
    "        #print(counter);\n",
    "    plt.tight_layout()"
   ]
  }
 ],
 "metadata": {
  "kernelspec": {
   "display_name": "Python 3",
   "language": "python",
   "name": "python3"
  },
  "language_info": {
   "codemirror_mode": {
    "name": "ipython",
    "version": 3
   },
   "file_extension": ".py",
   "mimetype": "text/x-python",
   "name": "python",
   "nbconvert_exporter": "python",
   "pygments_lexer": "ipython3",
   "version": "3.6.5"
  }
 },
 "nbformat": 4,
 "nbformat_minor": 2
}
