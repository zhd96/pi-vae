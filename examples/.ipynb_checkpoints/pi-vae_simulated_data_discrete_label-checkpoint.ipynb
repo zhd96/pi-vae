{
 "cells": [
  {
   "cell_type": "code",
   "execution_count": null,
   "metadata": {},
   "outputs": [],
   "source": [
    "import numpy as np\n",
    "import matplotlib.pyplot as plt\n",
    "\n",
    "sys.path.append(\"../code/\")\n",
    "from pi_vae import *\n",
    "from util import *\n",
    "from keras.callbacks import ModelCheckpoint\n",
    "\n",
    "## import plot packages\n",
    "from matplotlib.ticker import FormatStrFormatter\n",
    "from matplotlib import ticker\n",
    "\n",
    "%load_ext autoreload\n",
    "%autoreload 2\n",
    "%matplotlib inline"
   ]
  },
  {
   "cell_type": "markdown",
   "metadata": {},
   "source": [
    "# discrete label data"
   ]
  },
  {
   "cell_type": "markdown",
   "metadata": {},
   "source": [
    "## load discrete label simulated data"
   ]
  },
  {
   "cell_type": "code",
   "execution_count": null,
   "metadata": {},
   "outputs": [],
   "source": [
    "dat = np.load('../data/sim/sim_100d_poisson_disc_label.npz');\n",
    "u_true = dat['u'];\n",
    "z_true = dat['z'];\n",
    "x_true = dat['x'];"
   ]
  },
  {
   "cell_type": "code",
   "execution_count": null,
   "metadata": {},
   "outputs": [],
   "source": [
    "x_all = x_true.reshape(50,200,-1);\n",
    "u_all = u_true.reshape(50,200,-1);\n",
    "\n",
    "x_train = x_all[:40];\n",
    "u_train = u_all[:40];\n",
    "\n",
    "x_valid = x_all[40:45];\n",
    "u_valid = u_all[40:45];\n",
    "\n",
    "x_test = x_all[40:45];\n",
    "u_test = u_all[40:45];"
   ]
  },
  {
   "cell_type": "markdown",
   "metadata": {},
   "source": [
    "## fit pi-vae"
   ]
  },
  {
   "cell_type": "code",
   "execution_count": null,
   "metadata": {},
   "outputs": [],
   "source": [
    "np.random.seed(999);\n",
    "vae = vae_mdl(dim_x=x_all[0].shape[-1],\n",
    "                   dim_z=2,\n",
    "                   dim_u=np.unique(np.concatenate(u_all)).shape[0],\n",
    "                   gen_nodes=60, n_blk=2, mdl='poisson', disc=True, learning_rate=5e-4)"
   ]
  },
  {
   "cell_type": "code",
   "execution_count": null,
   "metadata": {},
   "outputs": [],
   "source": [
    "model_chk_path = '../results/sim_disc_nflow_2d_999.h5' ##999, 777\n",
    "mcp = ModelCheckpoint(model_chk_path, monitor=\"val_loss\", save_best_only=True, save_weights_only=True)\n",
    "s_n = vae.fit_generator(custom_data_generator(x_train, u_train),\n",
    "              steps_per_epoch=len(x_train), epochs=600,\n",
    "              verbose=1,\n",
    "              validation_data = custom_data_generator(x_valid, u_valid),\n",
    "              validation_steps = len(x_valid), callbacks=[mcp]);"
   ]
  },
  {
   "cell_type": "code",
   "execution_count": null,
   "metadata": {},
   "outputs": [],
   "source": [
    "plt.plot(s_n.history['val_loss'][:])"
   ]
  },
  {
   "cell_type": "code",
   "execution_count": null,
   "metadata": {},
   "outputs": [],
   "source": [
    "model_chk_path = '../results/sim_disc_nflow_2d_999.h5'\n",
    "vae.load_weights(model_chk_path);"
   ]
  },
  {
   "cell_type": "code",
   "execution_count": null,
   "metadata": {},
   "outputs": [],
   "source": [
    "outputs = vae.predict_generator(custom_data_generator(x_all, u_all),\n",
    "                                                steps = len(x_all));\n",
    "# post_mean, post_log_var, z_sample,fire_rate, lam_mean, lam_log_var, z_mean, z_log_var"
   ]
  },
  {
   "cell_type": "code",
   "execution_count": null,
   "metadata": {},
   "outputs": [],
   "source": [
    "c_vec = np.array(['red','orange','pink','green','indigo']);\n",
    "fsz = 14;\n",
    "\n",
    "ll = 5000;\n",
    "plt.figure(figsize=(12,4));\n",
    "ax1 = plt.subplot(1,3,1)\n",
    "plt.scatter(z_true[:ll,0], z_true[:ll,1], c=c_vec[u_true], s=1,alpha=0.5);\n",
    "ax1.set_xlabel('Latent 1',fontsize=fsz,fontweight='normal');\n",
    "ax1.set_ylabel('Latent 2',fontsize=fsz,fontweight='normal');\n",
    "ax1.spines['top'].set_visible(False)\n",
    "ax1.spines['right'].set_visible(False)\n",
    "plt.setp(ax1.get_xticklabels(), fontsize=fsz);\n",
    "plt.setp(ax1.get_yticklabels(), fontsize=fsz);\n",
    "ax1.xaxis.set_major_locator(ticker.MaxNLocator(nbins=4,min_n_ticks=4,prune=None))\n",
    "ax1.yaxis.set_major_locator(ticker.MaxNLocator(nbins=4,min_n_ticks=4,prune=None))\n",
    "\n",
    "ax2 = plt.subplot(1,3,2)\n",
    "plt.scatter(outputs[0][:ll,0], -outputs[0][:ll,1], c=c_vec[u_true], s=1,alpha=0.5);\n",
    "#ax2.set_xlabel('Latent 1',fontsize=fsz,fontweight='normal');\n",
    "#ax2.set_ylabel('Latent 2',fontsize=fsz,fontweight='normal');\n",
    "ax2.spines['top'].set_visible(False)\n",
    "ax2.spines['right'].set_visible(False)\n",
    "plt.setp(ax2.get_xticklabels(), fontsize=fsz);\n",
    "plt.setp(ax2.get_yticklabels(), fontsize=fsz);\n",
    "ax2.xaxis.set_major_locator(ticker.MaxNLocator(nbins=4,min_n_ticks=4,prune=None))\n",
    "ax2.yaxis.set_major_locator(ticker.MaxNLocator(nbins=4,min_n_ticks=4,prune=None))\n",
    "\n",
    "ax3 = plt.subplot(1,3,3)\n",
    "plt.scatter(outputs[6][:ll,0], -outputs[6][:ll,1], c=c_vec[u_true], s=1,alpha=0.5);\n",
    "#ax3.set_xlabel('Latent 1',fontsize=fsz,fontweight='normal');\n",
    "#ax3.set_ylabel('Latent 2',fontsize=fsz,fontweight='normal');\n",
    "ax3.spines['top'].set_visible(False)\n",
    "ax3.spines['right'].set_visible(False)\n",
    "plt.setp(ax3.get_xticklabels(), fontsize=fsz);\n",
    "plt.setp(ax3.get_yticklabels(), fontsize=fsz);\n",
    "ax3.xaxis.set_major_locator(ticker.MaxNLocator(nbins=4,min_n_ticks=4,prune=None))\n",
    "ax3.yaxis.set_major_locator(ticker.MaxNLocator(nbins=4,min_n_ticks=4,prune=None))\n",
    "\n",
    "plt.tight_layout();"
   ]
  }
 ],
 "metadata": {
  "kernelspec": {
   "display_name": "Python 3",
   "language": "python",
   "name": "python3"
  },
  "language_info": {
   "codemirror_mode": {
    "name": "ipython",
    "version": 3
   },
   "file_extension": ".py",
   "mimetype": "text/x-python",
   "name": "python",
   "nbconvert_exporter": "python",
   "pygments_lexer": "ipython3",
   "version": "3.6.5"
  }
 },
 "nbformat": 4,
 "nbformat_minor": 2
}
