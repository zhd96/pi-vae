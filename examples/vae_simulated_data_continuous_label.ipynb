{
 "cells": [
  {
   "cell_type": "code",
   "execution_count": null,
   "metadata": {},
   "outputs": [],
   "source": [
    "import numpy as np\n",
    "import matplotlib.pyplot as plt\n",
    "import sys\n",
    "sys.path.append(\"../code/\")\n",
    "from vae import *\n",
    "from util import *\n",
    "from keras.callbacks import ModelCheckpoint\n",
    "\n",
    "## import plot packages\n",
    "from matplotlib.ticker import FormatStrFormatter\n",
    "from matplotlib import ticker\n",
    "\n",
    "%load_ext autoreload\n",
    "%autoreload 2\n",
    "%matplotlib inline"
   ]
  },
  {
   "cell_type": "markdown",
   "metadata": {},
   "source": [
    "# continuous label data"
   ]
  },
  {
   "cell_type": "markdown",
   "metadata": {},
   "source": [
    "## load continuous label simulated data\n",
    "## or generate it using simulate_data.ipynb"
   ]
  },
  {
   "cell_type": "code",
   "execution_count": null,
   "metadata": {},
   "outputs": [],
   "source": [
    "dat = np.load('../data/sim/sim_100d_poisson_cont_label.npz');\n",
    "u_true = dat['u'];\n",
    "z_true = dat['z'];\n",
    "x_true = dat['x'];"
   ]
  },
  {
   "cell_type": "code",
   "execution_count": null,
   "metadata": {},
   "outputs": [],
   "source": [
    "x_all = x_true.reshape(50,300,-1);\n",
    "cu_all = u_true.reshape(50,300,-1);\n",
    "u_all = np.zeros(cu_all.shape);\n",
    "\n",
    "x_train = x_all[:40];\n",
    "u_train = u_all[:40];\n",
    "cu_train = cu_all[:40];\n",
    "\n",
    "x_valid = x_all[40:45];\n",
    "u_valid = u_all[40:45];\n",
    "cu_valid = cu_all[40:45];\n",
    "\n",
    "x_test = x_all[45:];\n",
    "u_test = u_all[45:];\n",
    "cu_test = cu_all[45:];"
   ]
  },
  {
   "cell_type": "markdown",
   "metadata": {},
   "source": [
    "## fit vae"
   ]
  },
  {
   "cell_type": "code",
   "execution_count": null,
   "metadata": {},
   "outputs": [],
   "source": [
    "np.random.seed(666);\n",
    "vae = vae_mdl(dim_x=x_all[0].shape[-1], \n",
    "                   dim_z=2,\n",
    "                   gen_nodes=60, n_blk=2, mdl='poisson', learning_rate=5e-4);"
   ]
  },
  {
   "cell_type": "code",
   "execution_count": null,
   "metadata": {},
   "outputs": [],
   "source": [
    "model_chk_path = '../results/sim_cont_nflow_2d_666_vae.h5' ##999, 777\n",
    "mcp = ModelCheckpoint(model_chk_path, monitor=\"val_loss\", save_best_only=True, save_weights_only=True)\n",
    "s_n = vae.fit_generator(custom_data_generator(x_train, u_train),\n",
    "              steps_per_epoch=len(x_train), epochs=1000,\n",
    "              verbose=1,\n",
    "              validation_data = custom_data_generator(x_valid, u_valid),\n",
    "              validation_steps = len(x_valid), callbacks=[mcp]);"
   ]
  },
  {
   "cell_type": "code",
   "execution_count": null,
   "metadata": {},
   "outputs": [],
   "source": [
    "plt.plot(s_n.history['val_loss'][:])"
   ]
  },
  {
   "cell_type": "code",
   "execution_count": null,
   "metadata": {},
   "outputs": [],
   "source": [
    "model_chk_path = '../results/sim_cont_nflow_2d_666_vae.h5'\n",
    "vae.load_weights(model_chk_path);"
   ]
  },
  {
   "cell_type": "code",
   "execution_count": null,
   "metadata": {},
   "outputs": [],
   "source": [
    "outputs = vae.predict_generator(custom_data_generator(x_all, u_all),\n",
    "                                                steps = len(x_all));\n",
    "# post_mean, post_log_var, z_sample,fire_rate, lam_mean, lam_log_var, z_mean, z_log_var"
   ]
  },
  {
   "cell_type": "code",
   "execution_count": null,
   "metadata": {},
   "outputs": [],
   "source": [
    "length = 30;\n",
    "ll = 10000;\n",
    "c_vec = plt.cm.viridis(np.linspace(0,1,length))\n",
    "bins = np.linspace(0,2*np.pi,length);\n",
    "centers = (bins[1:]+bins[:-1])/2;\n",
    "disc_loc = np.digitize(u_true[:,0],centers);\n",
    "c_all = c_vec[disc_loc];\n",
    "\n",
    "fsz = 14;\n",
    "\n",
    "plt.figure(figsize=(8,4));\n",
    "ax1 = plt.subplot(1,2,1)\n",
    "plt.scatter(z_true[:ll,0], z_true[:ll,1], c=c_all, s=1,alpha=0.5);\n",
    "ax1.set_xlabel('Latent 1',fontsize=fsz,fontweight='normal');\n",
    "ax1.set_ylabel('Latent 2',fontsize=fsz,fontweight='normal');\n",
    "ax1.spines['top'].set_visible(False)\n",
    "ax1.spines['right'].set_visible(False)\n",
    "plt.setp(ax1.get_xticklabels(), fontsize=fsz);\n",
    "plt.setp(ax1.get_yticklabels(), fontsize=fsz);\n",
    "\n",
    "ax2 = plt.subplot(1,2,2)\n",
    "plt.scatter(outputs[0][:ll,1], outputs[0][:ll,0], c=c_all, s=1,alpha=0.5);\n",
    "#ax2.set_xlabel('Latent 1',fontsize=fsz,fontweight='normal');\n",
    "#ax2.set_ylabel('Latent 2',fontsize=fsz,fontweight='normal');\n",
    "ax2.spines['top'].set_visible(False)\n",
    "ax2.spines['right'].set_visible(False)\n",
    "plt.setp(ax2.get_xticklabels(), fontsize=fsz);\n",
    "plt.setp(ax2.get_yticklabels(), fontsize=fsz);\n",
    "\n",
    "plt.tight_layout();"
   ]
  }
 ],
 "metadata": {
  "kernelspec": {
   "display_name": "Python 3",
   "language": "python",
   "name": "python3"
  },
  "language_info": {
   "codemirror_mode": {
    "name": "ipython",
    "version": 3
   },
   "file_extension": ".py",
   "mimetype": "text/x-python",
   "name": "python",
   "nbconvert_exporter": "python",
   "pygments_lexer": "ipython3",
   "version": "3.6.5"
  }
 },
 "nbformat": 4,
 "nbformat_minor": 2
}
