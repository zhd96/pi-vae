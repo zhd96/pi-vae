{
 "cells": [
  {
   "cell_type": "code",
   "execution_count": null,
   "metadata": {},
   "outputs": [],
   "source": [
    "import numpy as np\n",
    "import matplotlib.pyplot as plt\n",
    "import scipy.stats as ss\n",
    "import scipy.special as ssp\n",
    "import sys\n",
    "import scipy.io as sio\n",
    "sys.path.append(\"../code/\")\n",
    "from pi_vae import *\n",
    "from util import *\n",
    "from keras.callbacks import ModelCheckpoint\n",
    "\n",
    "## import plot packages\n",
    "from matplotlib.ticker import FormatStrFormatter\n",
    "from matplotlib import ticker\n",
    "import seaborn\n",
    "\n",
    "%load_ext autoreload\n",
    "%autoreload 2\n",
    "%matplotlib inline"
   ]
  },
  {
   "cell_type": "markdown",
   "metadata": {},
   "source": [
    "## load rat data"
   ]
  },
  {
   "cell_type": "code",
   "execution_count": null,
   "metadata": {},
   "outputs": [],
   "source": [
    "## load trial information\n",
    "idx_split = sio.loadmat(\"../data/achilles_data/Achilles_trial_split_idx.mat\")"
   ]
  },
  {
   "cell_type": "code",
   "execution_count": null,
   "metadata": {},
   "outputs": [],
   "source": [
    "## load spike data\n",
    "spike_by_neuron_use = sio.loadmat('../data/achilles_data/Achilles_spike.mat');"
   ]
  },
  {
   "cell_type": "code",
   "execution_count": null,
   "metadata": {},
   "outputs": [],
   "source": [
    "## load locations\n",
    "locations_vec = sio.loadmat('../data/achilles_data/Achilles_locations.mat');"
   ]
  },
  {
   "cell_type": "code",
   "execution_count": null,
   "metadata": {},
   "outputs": [],
   "source": [
    "u_all = np.array(np.array_split(np.hstack((locations_vec.reshape(-1,1),np.zeros((locations_vec.shape[0],2)))), idx_split[1:-1], axis=0))\n",
    "x_all = np.array(np.array_split(spike_by_neuron_use, idx_split[1:-1], axis=0))\n",
    "for ii in range(len(u_all)):\n",
    "    u_all[ii][:,int(ii%2)+1] = 1;\n",
    "    \n",
    "trial_ls = np.arange(len(u_all));\n",
    "np.random.seed(666);\n",
    "random_ls = np.random.permutation(trial_ls);"
   ]
  },
  {
   "cell_type": "code",
   "execution_count": null,
   "metadata": {},
   "outputs": [],
   "source": [
    "u_train = u_all[trial_ls[:68]];\n",
    "x_train = x_all[trial_ls[:68]];\n",
    "\n",
    "u_valid = u_all[trial_ls[68:76]];\n",
    "x_valid = x_all[trial_ls[68:76]];\n",
    "\n",
    "u_test = u_all[trial_ls[76:]];\n",
    "x_test = x_all[trial_ls[76:]];"
   ]
  },
  {
   "cell_type": "code",
   "execution_count": null,
   "metadata": {},
   "outputs": [],
   "source": [
    "## fit pca\n",
    "from sklearn.decomposition import PCA\n",
    "pca_raw = PCA(n_components=2);\n",
    "pca_raw_rlt = pca_raw.fit_transform(np.concatenate(x_all));"
   ]
  },
  {
   "cell_type": "code",
   "execution_count": null,
   "metadata": {},
   "outputs": [],
   "source": [
    "## plot pca results\n",
    "plt.scatter(pca_raw_rlt[:,0], pca_raw_rlt[:,1], alpha=0.5, c=(np.concatenate(u_all)[:,-1]>0))"
   ]
  },
  {
   "cell_type": "markdown",
   "metadata": {},
   "source": [
    "## fit pi-vae"
   ]
  },
  {
   "cell_type": "code",
   "execution_count": null,
   "metadata": {},
   "outputs": [],
   "source": [
    "np.random.seed(666);\n",
    "vae = vae_mdl(dim_x=x_all[0].shape[-1], \n",
    "                   dim_z=2,\n",
    "                   dim_u=u_all[0].shape[-1], \n",
    "                   gen_nodes=60, n_blk=2, mdl='poisson', disc=False, learning_rate=5e-4)"
   ]
  },
  {
   "cell_type": "code",
   "execution_count": null,
   "metadata": {},
   "outputs": [],
   "source": [
    "model_chk_path = '../results/rat_2d_666.h5' ##999, 777\n",
    "mcp = ModelCheckpoint(model_chk_path, monitor=\"val_loss\", save_best_only=True, save_weights_only=True)\n",
    "s_n = vae.fit_generator(custom_data_generator(x_train, u_train),\n",
    "              steps_per_epoch=len(x_train), epochs=600, \n",
    "              verbose=1,\n",
    "              validation_data = custom_data_generator(x_valid, u_valid),\n",
    "              validation_steps = len(x_valid), callbacks=[mcp]);"
   ]
  },
  {
   "cell_type": "code",
   "execution_count": null,
   "metadata": {},
   "outputs": [],
   "source": [
    "plt.plot(s_n.history['val_loss'][:])"
   ]
  },
  {
   "cell_type": "code",
   "execution_count": null,
   "metadata": {},
   "outputs": [],
   "source": [
    "model_chk_path = '../results/rat_2d_666.h5'\n",
    "vae.load_weights(model_chk_path);"
   ]
  },
  {
   "cell_type": "code",
   "execution_count": null,
   "metadata": {},
   "outputs": [],
   "source": [
    "outputs = vae.predict_generator(custom_data_generator(x_all, u_all),\n",
    "                                                steps = len(x_all));\n",
    "# post_mean, post_log_var, z_sample,fire_rate, lam_mean, lam_log_var, z_mean, z_log_var\n",
    "print(outputs[0].var(axis=0))  ## variance of each latent dimension"
   ]
  },
  {
   "cell_type": "code",
   "execution_count": null,
   "metadata": {},
   "outputs": [],
   "source": [
    "z_pred_all = [];\n",
    "for ii in range(len(x_all)):\n",
    "    z_pred_all.append(vae.predict([x_all[ii], u_all[ii]])[0][:,:]);\n",
    "z_pred_all = np.array(z_pred_all);"
   ]
  },
  {
   "cell_type": "markdown",
   "metadata": {},
   "source": [
    "## make plots"
   ]
  },
  {
   "cell_type": "code",
   "execution_count": null,
   "metadata": {},
   "outputs": [],
   "source": [
    "def get_tc_rd(y, hd, hd_bins): # compute empirical tunning curve of data\n",
    "    tuning_curve = np.zeros((len(hd_bins)-1, y.shape[1]));\n",
    "    for ii in range(len(hd_bins)-1):\n",
    "        data_pos = ((hd>=hd_bins[ii])*(hd<=hd_bins[ii+1]));\n",
    "        tuning_curve[ii,:] = y[data_pos,:].mean(axis=0);\n",
    "    return tuning_curve"
   ]
  },
  {
   "cell_type": "code",
   "execution_count": null,
   "metadata": {},
   "outputs": [],
   "source": [
    "## posterior mean\n",
    "\n",
    "ll = 11;\n",
    "hd_bins = np.linspace(0,1.6,ll);\n",
    "select = (np.concatenate(u_all)[:,1]==1);\n",
    "tc1 = get_tc_rd(outputs[0][select], np.concatenate(u_all)[select,0], hd_bins);\n",
    "select = (np.concatenate(u_all)[:,2]==1);\n",
    "tc2 = get_tc_rd(outputs[0][select], np.concatenate(u_all)[select,0], hd_bins);\n",
    "\n",
    "dis_mat = np.zeros((len(tc1), len(tc2)));\n",
    "for jj in range(len(tc1)):\n",
    "    dis_mat[jj] = np.sqrt(np.square(tc1[jj]-tc2).sum(axis=-1))\n",
    "\n",
    "ll = 5000;\n",
    "fig = plt.figure(figsize=(5.5,4))\n",
    "ax = plt.subplot(111); #fig.add_subplot(111, projection='3d')\n",
    "fsz = 14;\n",
    "## learn locations\n",
    "select = (np.concatenate(u_all)[:ll,1]==1);\n",
    "\n",
    "im = ax.scatter(outputs[0][:ll][select][:,0], outputs[0][:ll][select][:,1],s=1,c=np.concatenate(u_all)[:ll][select,0],\n",
    "           cmap='Reds',vmin=0,vmax=1.6);\n",
    "ax.plot(tc1[:,0],tc1[:,1],c='black');\n",
    "cbar = plt.colorbar(im)\n",
    "cbar.ax.tick_params(labelsize=14) \n",
    "tick_locator = ticker.MaxNLocator(nbins=5)\n",
    "cbar.locator = tick_locator\n",
    "cbar.update_ticks()\n",
    "## learn locations\n",
    "select = (np.concatenate(u_all)[:ll][:,1]==0);\n",
    "\n",
    "im = ax.scatter(outputs[0][:ll][select][:,0], outputs[0][:ll][select][:,1],s=1,c=np.concatenate(u_all)[:ll][select,0],\n",
    "           cmap='Blues',vmin=0,vmax=1.6);\n",
    "ax.plot(tc2[:,0],tc2[:,1],c='black');\n",
    "cbar = plt.colorbar(im)\n",
    "cbar.ax.tick_params(labelsize=14) \n",
    "tick_locator = ticker.MaxNLocator(nbins=5)\n",
    "cbar.locator = tick_locator\n",
    "cbar.update_ticks()\n",
    "ax.set_xlabel('Latent 1', fontsize=fsz);\n",
    "ax.set_ylabel('Latent 2', fontsize=fsz);\n",
    "ax.spines['top'].set_visible(False)\n",
    "ax.spines['right'].set_visible(False)\n",
    "\n",
    "plt.setp(ax.get_xticklabels(), fontsize=fsz);\n",
    "plt.setp(ax.get_yticklabels(), fontsize=fsz);\n",
    "\n",
    "ax.xaxis.set_major_locator(ticker.MaxNLocator(nbins=4,min_n_ticks=4,prune=None))\n",
    "ax.yaxis.set_major_locator(ticker.MaxNLocator(nbins=4,min_n_ticks=4,prune=None))\n",
    "\n",
    "plt.tight_layout()"
   ]
  },
  {
   "cell_type": "code",
   "execution_count": null,
   "metadata": {},
   "outputs": [],
   "source": [
    "## posterior mean single trial trajectory\n",
    "\n",
    "ndim = 0;\n",
    "ll = 20;\n",
    "fsz = 14;\n",
    "fig = plt.figure(figsize=(4,4))\n",
    "ax = plt.subplot(111)\n",
    "bins = np.linspace(np.concatenate(u_all)[:,ndim].min(),np.concatenate(u_all)[:,ndim].max(),ll);\n",
    "centers = (bins[1:]+bins[:-1])/2;\n",
    "lines = ['--', '-']\n",
    "for ii in range(4):\n",
    "    length = len(z_pred_all[ii]);\n",
    "    disc_loc = np.digitize(u_all[ii][:,ndim],centers);\n",
    "    if ii%2:\n",
    "        c_vec = plt.cm.Blues(np.linspace(0,1,ll))#[::-1];\n",
    "    else:\n",
    "        c_vec = plt.cm.Reds(np.linspace(0,1,ll))#[::-1];\n",
    "    \n",
    "    c_all = c_vec[disc_loc];\n",
    "    ax.scatter(z_pred_all[ii][0,0], z_pred_all[ii][0,1], marker='x',c='black')\n",
    "    for jj in range(length-1):\n",
    "        tmp = np.linspace(z_pred_all[ii][jj], z_pred_all[ii][jj+1], 10);\n",
    "        ax.plot(tmp[:,0], tmp[:,1], lines[ii%2], c=c_all[jj], linewidth=1);\n",
    "    ax.scatter(z_pred_all[ii][-1,0], z_pred_all[ii][-1,1],marker='x',c='black')\n",
    "ax.plot(tc1[:,0],tc1[:,1],c='black');\n",
    "ax.plot(tc2[:,0],tc2[:,1],c='black');\n",
    "ax.set_xlabel('Latent 1', fontsize=fsz);\n",
    "ax.set_ylabel('Latent 2', fontsize=fsz);\n",
    "ax.spines['top'].set_visible(False)\n",
    "ax.spines['right'].set_visible(False)\n",
    "\n",
    "plt.setp(ax.get_xticklabels(), fontsize=fsz);\n",
    "plt.setp(ax.get_yticklabels(), fontsize=fsz);\n",
    "\n",
    "ax.xaxis.set_major_locator(ticker.MaxNLocator(nbins=4,min_n_ticks=4,prune=None))\n",
    "ax.yaxis.set_major_locator(ticker.MaxNLocator(nbins=4,min_n_ticks=4,prune=None))\n",
    "plt.tight_layout()"
   ]
  },
  {
   "cell_type": "code",
   "execution_count": null,
   "metadata": {},
   "outputs": [],
   "source": []
  },
  {
   "cell_type": "code",
   "execution_count": null,
   "metadata": {},
   "outputs": [],
   "source": [
    "## posterior mean w/o prior\n",
    "\n",
    "ll = 11;\n",
    "hd_bins = np.linspace(0,1.6,ll);\n",
    "select = (np.concatenate(u_all)[:,1]==1);\n",
    "tc1 = get_tc_rd(outputs[6][select], np.concatenate(u_all)[select,0], hd_bins);\n",
    "select = (np.concatenate(u_all)[:,2]==1);\n",
    "tc2 = get_tc_rd(outputs[6][select], np.concatenate(u_all)[select,0], hd_bins);\n",
    "\n",
    "dis_mat_no_pri = np.zeros((len(tc1), len(tc2)));\n",
    "for jj in range(len(tc1)):\n",
    "    dis_mat_no_pri[jj] = np.sqrt(np.square(tc1[jj]-tc2).sum(axis=-1))\n",
    "    \n",
    "ll = 5000;\n",
    "fig = plt.figure(figsize=(4,4))\n",
    "ax = plt.subplot(111); #fig.add_subplot(111, projection='3d')\n",
    "fsz = 14;\n",
    "## learn locations\n",
    "select = (np.concatenate(u_all)[:ll,1]==1);\n",
    "length = 20;\n",
    "c_vec = plt.cm.Reds(np.linspace(0,1,length))\n",
    "bins = np.linspace(0,1.6,length);\n",
    "centers = (bins[1:]+bins[:-1])/2;\n",
    "disc_loc = np.digitize(np.concatenate(u_all)[:ll][select,0],centers);\n",
    "c_all = c_vec[disc_loc];\n",
    "\n",
    "ax.scatter(outputs[6][:ll][select][:,0], outputs[6][:ll][select][:,1],s=1,c=c_all);\n",
    "ax.plot(tc1[:,0],tc1[:,1],c='black');\n",
    "## learn locations\n",
    "select = (np.concatenate(u_all)[:ll][:,1]==0);\n",
    "length = 20;\n",
    "c_vec = plt.cm.Blues(np.linspace(0,1,length))\n",
    "bins = np.linspace(0,1.6,length);\n",
    "centers = (bins[1:]+bins[:-1])/2;\n",
    "disc_loc = np.digitize(np.concatenate(u_all)[:ll][select,0],centers);\n",
    "c_all = c_vec[disc_loc];\n",
    "\n",
    "ax.scatter(outputs[6][:ll][select][:,0], outputs[6][:ll][select][:,1],s=1,c=c_all);\n",
    "ax.plot(tc2[:,0],tc2[:,1],c='black');\n",
    "ax.set_xlabel('Latent 1', fontsize=fsz);\n",
    "ax.set_ylabel('Latent 2', fontsize=fsz);\n",
    "ax.spines['top'].set_visible(False)\n",
    "ax.spines['right'].set_visible(False)\n",
    "\n",
    "plt.setp(ax.get_xticklabels(), fontsize=fsz);\n",
    "plt.setp(ax.get_yticklabels(), fontsize=fsz);\n",
    "\n",
    "ax.xaxis.set_major_locator(ticker.MaxNLocator(nbins=4,min_n_ticks=4,prune=None))\n",
    "ax.yaxis.set_major_locator(ticker.MaxNLocator(nbins=4,min_n_ticks=4,prune=None))\n",
    "\n",
    "plt.tight_layout()"
   ]
  },
  {
   "cell_type": "markdown",
   "metadata": {},
   "source": [
    "## compute log likelihood and decoding"
   ]
  },
  {
   "cell_type": "code",
   "execution_count": null,
   "metadata": {},
   "outputs": [],
   "source": [
    "## sample u\n",
    "np.random.seed(666);\n",
    "hd_bins = np.linspace(0,1.6,100);\n",
    "nu_sample = 200;\n",
    "u_fake = [];\n",
    "for jj in range(nu_sample):\n",
    "    tmp_all = [];\n",
    "    for ii in range(len(x_test)):\n",
    "        nn = x_test[ii].shape[0];\n",
    "        tmp = np.hstack((np.ones((nn,1))*hd_bins[jj%100], np.zeros((nn,2))));\n",
    "        if jj >= (nu_sample//2):\n",
    "            tmp[:,2]+=1;\n",
    "        else:\n",
    "            tmp[:,1]+=1;\n",
    "        tmp_all.append(tmp);\n",
    "    u_fake.append(np.array(tmp_all));\n",
    "u_fake = np.array(u_fake);\n",
    "\n",
    "## compute loglik\n",
    "np.random.seed(666);\n",
    "lik_all = compute_marginal_lik_poisson(vae, x_test, u_fake, 100);\n",
    "lik_use = np.concatenate([np.log(lik_all[jj].mean(axis=0))-ssp.loggamma(x_test[jj]+1).sum(axis=-1) for jj in range(len(lik_all))]);\n",
    "## only decode location\n",
    "decode_use=np.array([(lik_all[jj]).reshape(100,2,-1,order=\"F\").sum(axis=1).argmax(axis=0) \n",
    "                     for jj in range(len(lik_all))]);"
   ]
  },
  {
   "cell_type": "code",
   "execution_count": null,
   "metadata": {},
   "outputs": [],
   "source": [
    "## fit tuning curve model\n",
    "tc = get_tc(np.concatenate(x_train), np.concatenate(u_train)[:,0], bin_len=100);\n",
    "lik_tc = [np.array([np.exp((x_test[jj]*np.log(np.clip(tc[ii],1e-7,1e6)) - tc[ii]).sum(axis=-1)) for ii in range(tc.shape[0])]) for jj in range(len(x_test))];\n",
    "lik_tc_use = np.concatenate([np.log(lik_tc[jj].mean(axis=0))-ssp.loggamma(x_test[jj]+1).sum(axis=-1) for jj in range(len(lik_tc))]);\n",
    "decode_tc_use = np.array([lik_tc[jj].argmax(axis=0) for jj in range(len(lik_tc))]);\n",
    "hd_bins = np.linspace(0,1.6,100);\n",
    "decode_tc_use = np.array([hd_bins[decode_tc_use[jj]] for jj in range(len(x_test))])"
   ]
  },
  {
   "cell_type": "code",
   "execution_count": null,
   "metadata": {},
   "outputs": [],
   "source": [
    "(np.median(np.concatenate([np.abs(hd_bins[decode_use[jj]]-u_test[jj][:,0]) \n",
    "                        for jj in range(len(u_test))])))"
   ]
  },
  {
   "cell_type": "code",
   "execution_count": null,
   "metadata": {},
   "outputs": [],
   "source": [
    "(np.median(np.concatenate([(np.abs(decode_tc_use[jj]-u_test[jj][:,0])) \n",
    "                for jj in range(len(u_test))])))"
   ]
  },
  {
   "cell_type": "code",
   "execution_count": null,
   "metadata": {},
   "outputs": [],
   "source": [
    "## load vae loglik lik_use_vae\n",
    "## lik_use_vae = np.load(\"../results/lik_vae_rat.npy\")\n",
    "mean_diff = ((lik_use)-(lik_use_vae));\n",
    "## p-value\n",
    "1-ss.t.cdf(mean_diff.mean()*np.sqrt(mean_diff.shape[0])/np.std(mean_diff), mean_diff.shape[0])"
   ]
  },
  {
   "cell_type": "markdown",
   "metadata": {},
   "source": [
    "## compute residual"
   ]
  },
  {
   "cell_type": "code",
   "execution_count": null,
   "metadata": {},
   "outputs": [],
   "source": [
    "res = outputs[0] - outputs[4] ## posterior mean minus prior mean"
   ]
  },
  {
   "cell_type": "code",
   "execution_count": null,
   "metadata": {},
   "outputs": [],
   "source": [
    "## residual fft\n",
    "\n",
    "import numpy.fft as fft\n",
    "\n",
    "fig = plt.figure(figsize=(6,12))\n",
    "ax1 = plt.subplot(3,1,1);\n",
    "fsz = 14;\n",
    "ll = 600\n",
    "spectrum = fft.fft(res[:,0])\n",
    "freq = fft.fftfreq(len(spectrum), 0.025)\n",
    "select = (freq>0)*(freq<15);\n",
    "plt.plot(rolling_mean(freq[select]), rolling_mean((abs(spectrum)[select])))\n",
    "plt.xlim([0,15]);\n",
    "ax1.set_xlabel('Frequency (Hz)',fontsize=fsz,fontweight='normal');\n",
    "ax1.set_ylabel('Fourier transforms',fontsize=fsz,fontweight='normal');\n",
    "ax1.spines['top'].set_visible(False)\n",
    "ax1.spines['right'].set_visible(False)\n",
    "plt.setp(ax1.get_xticklabels(), fontsize=fsz);\n",
    "plt.setp(ax1.get_yticklabels(), fontsize=fsz);\n",
    "\n",
    "ax1 = plt.subplot(3,1,2);\n",
    "fsz = 14;\n",
    "spectrum = fft.fft(res[:,1])\n",
    "freq = fft.fftfreq(len(spectrum), 0.025)\n",
    "select = (freq>0)*(freq<15);\n",
    "plt.plot(rolling_mean(freq[select]), rolling_mean((abs(spectrum)[select])))\n",
    "plt.xlim([0,15]);\n",
    "ax1.set_xlabel('Frequency (Hz)',fontsize=fsz,fontweight='normal');\n",
    "ax1.set_ylabel('Fourier transforms',fontsize=fsz,fontweight='normal');\n",
    "ax1.spines['top'].set_visible(False)\n",
    "ax1.spines['right'].set_visible(False)\n",
    "plt.setp(ax1.get_xticklabels(), fontsize=fsz);\n",
    "plt.setp(ax1.get_yticklabels(), fontsize=fsz);\n",
    "\n",
    "plt.tight_layout()"
   ]
  },
  {
   "cell_type": "code",
   "execution_count": null,
   "metadata": {},
   "outputs": [],
   "source": []
  },
  {
   "cell_type": "markdown",
   "metadata": {},
   "source": [
    "## compute geometry"
   ]
  },
  {
   "cell_type": "code",
   "execution_count": null,
   "metadata": {},
   "outputs": [],
   "source": [
    "## posterior geometry\n",
    "\n",
    "ll = 11;\n",
    "hd_bins = np.linspace(0,1.6,ll);\n",
    "select = (np.concatenate(u_all)[:,1]==1);\n",
    "tc1 = get_tc_rd(outputs[0][select], np.concatenate(u_all)[select,0], hd_bins);\n",
    "select = (np.concatenate(u_all)[:,2]==1);\n",
    "tc2 = get_tc_rd(outputs[0][select], np.concatenate(u_all)[select,0], hd_bins);\n",
    "\n",
    "dis_mat = np.zeros((len(tc1), len(tc2)));\n",
    "for jj in range(len(tc1)):\n",
    "    dis_mat[jj] = np.sqrt(np.square(tc1[jj]-tc2).sum(axis=-1))\n",
    "    \n",
    "## posterior w/o prior geometry\n",
    "\n",
    "ll = 11;\n",
    "hd_bins = np.linspace(0,1.6,ll);\n",
    "select = (np.concatenate(u_all)[:,1]==1);\n",
    "tc1 = get_tc_rd(outputs[6][select], np.concatenate(u_all)[select,0], hd_bins);\n",
    "select = (np.concatenate(u_all)[:,2]==1);\n",
    "tc2 = get_tc_rd(outputs[6][select], np.concatenate(u_all)[select,0], hd_bins);\n",
    "\n",
    "dis_mat_no_pri = np.zeros((len(tc1), len(tc2)));\n",
    "for jj in range(len(tc1)):\n",
    "    dis_mat_no_pri[jj] = np.sqrt(np.square(tc1[jj]-tc2).sum(axis=-1))\n",
    "    \n",
    "## load vae latent\n",
    "## lat_vae = np.load(\"../results/lat_vae_1d_hipp_2d.npy\")\n",
    "\n",
    "ll = 11;\n",
    "hd_bins = np.linspace(0,1.6,ll);\n",
    "select = (np.concatenate(u_all)[:,1]==1);\n",
    "tc1 = get_tc_rd(lat_vae[select], np.concatenate(u_all)[select,0], hd_bins);\n",
    "select = (np.concatenate(u_all)[:,2]==1);\n",
    "tc2 = get_tc_rd(lat_vae[select], np.concatenate(u_all)[select,0], hd_bins);\n",
    "\n",
    "dis_mat_vae = np.zeros((len(tc1), len(tc2)));\n",
    "for jj in range(len(tc1)):\n",
    "    dis_mat_vae[jj] = np.sqrt(np.square(tc1[jj]-tc2).sum(axis=-1))"
   ]
  },
  {
   "cell_type": "code",
   "execution_count": null,
   "metadata": {},
   "outputs": [],
   "source": [
    "plt.figure(figsize=(14,4))\n",
    "plt.subplot(1,3,1)\n",
    "plt.title('iVAE')\n",
    "ax = seaborn.heatmap((dis_mat)/(dis_mat.max()), vmin=0,vmax=1,xticklabels=False, yticklabels=False, square=True, cmap='Greys');\n",
    "ax.invert_yaxis()\n",
    "cbar = ax.collections[0].colorbar\n",
    "cbar.ax.tick_params(labelsize=14)\n",
    "plt.subplot(1,3,2)\n",
    "plt.title('iVAE w/o prior')\n",
    "ax = seaborn.heatmap((dis_mat_no_pri)/(dis_mat_no_pri.max()), vmin=0,vmax=1,xticklabels=False, yticklabels=False, square=True, cmap='Greys');\n",
    "ax.invert_yaxis()\n",
    "cbar = ax.collections[0].colorbar\n",
    "cbar.ax.tick_params(labelsize=14)\n",
    "plt.subplot(1,3,3)\n",
    "plt.title('VAE')\n",
    "ax = seaborn.heatmap((dis_mat_vae)/(dis_mat_vae.max()), vmin=0,vmax=1,xticklabels=False, yticklabels=False, square=True, cmap='Greys');\n",
    "ax.invert_yaxis()\n",
    "cbar = ax.collections[0].colorbar\n",
    "cbar.ax.tick_params(labelsize=14)\n",
    "plt.tight_layout()"
   ]
  }
 ],
 "metadata": {
  "kernelspec": {
   "display_name": "Python 3",
   "language": "python",
   "name": "python3"
  },
  "language_info": {
   "codemirror_mode": {
    "name": "ipython",
    "version": 3
   },
   "file_extension": ".py",
   "mimetype": "text/x-python",
   "name": "python",
   "nbconvert_exporter": "python",
   "pygments_lexer": "ipython3",
   "version": "3.6.5"
  }
 },
 "nbformat": 4,
 "nbformat_minor": 2
}
